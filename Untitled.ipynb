{
 "cells": [
  {
   "cell_type": "code",
   "execution_count": 1,
   "id": "8aa975c4-e49d-4112-95d5-e89b51180486",
   "metadata": {},
   "outputs": [],
   "source": [
    "# Q1.create one variable containing following type of data:\n",
    "string = 'sudh'"
   ]
  },
  {
   "cell_type": "code",
   "execution_count": 2,
   "id": "d6f1452b-f419-4a57-9d74-57e9c15818e4",
   "metadata": {},
   "outputs": [
    {
     "data": {
      "text/plain": [
       "str"
      ]
     },
     "execution_count": 2,
     "metadata": {},
     "output_type": "execute_result"
    }
   ],
   "source": [
    "type(string)"
   ]
  },
  {
   "cell_type": "code",
   "execution_count": 3,
   "id": "c6efab52-cbe8-4552-9d5b-aa3e9b71ffb0",
   "metadata": {},
   "outputs": [],
   "source": [
    "l = [1,2,3,4,True,'sudh',5+7j,4.5]"
   ]
  },
  {
   "cell_type": "code",
   "execution_count": 6,
   "id": "70774f5f-fa68-4e7b-9123-bc49a5eee270",
   "metadata": {},
   "outputs": [
    {
     "data": {
      "text/plain": [
       "list"
      ]
     },
     "execution_count": 6,
     "metadata": {},
     "output_type": "execute_result"
    }
   ],
   "source": [
    "type(l)"
   ]
  },
  {
   "cell_type": "code",
   "execution_count": 4,
   "id": "1bc86e92-4daf-4fea-8a04-98339a8c7df5",
   "metadata": {},
   "outputs": [],
   "source": [
    "float=4.5"
   ]
  },
  {
   "cell_type": "code",
   "execution_count": 5,
   "id": "0f139f66-8757-4b44-a129-fb0a0fbccffe",
   "metadata": {},
   "outputs": [
    {
     "data": {
      "text/plain": [
       "float"
      ]
     },
     "execution_count": 5,
     "metadata": {},
     "output_type": "execute_result"
    }
   ],
   "source": [
    "type(float)"
   ]
  },
  {
   "cell_type": "code",
   "execution_count": 7,
   "id": "34a22dc4-0220-477f-9c84-958cb30caf23",
   "metadata": {},
   "outputs": [],
   "source": [
    "t = (1,2,True,'sudh',3.4,5+6j)"
   ]
  },
  {
   "cell_type": "code",
   "execution_count": 8,
   "id": "2a6e1147-4412-42de-a838-d383f2846878",
   "metadata": {},
   "outputs": [
    {
     "data": {
      "text/plain": [
       "tuple"
      ]
     },
     "execution_count": 8,
     "metadata": {},
     "output_type": "execute_result"
    }
   ],
   "source": [
    "type(t)"
   ]
  },
  {
   "cell_type": "code",
   "execution_count": null,
   "id": "4035cf34-91cd-4f85-ba3d-3baa7ea5d949",
   "metadata": {},
   "outputs": [],
   "source": []
  },
  {
   "cell_type": "code",
   "execution_count": 23,
   "id": "e51a0189-66cc-4be6-a34a-2588168c7a2a",
   "metadata": {},
   "outputs": [
    {
     "data": {
      "text/plain": [
       "'Q2. Given are some following variables containing data:'"
      ]
     },
     "execution_count": 23,
     "metadata": {},
     "output_type": "execute_result"
    }
   ],
   "source": [
    "\"\"\"Q2. Given are some following variables containing data:\"\"\""
   ]
  },
  {
   "cell_type": "code",
   "execution_count": 11,
   "id": "7eba124a-0f4c-4f5a-ad38-ee72b63f4927",
   "metadata": {},
   "outputs": [],
   "source": [
    "var1 = 'sudh'"
   ]
  },
  {
   "cell_type": "code",
   "execution_count": 12,
   "id": "8dcf15e8-13d3-4434-be57-78558ae6d73d",
   "metadata": {},
   "outputs": [
    {
     "data": {
      "text/plain": [
       "'sudh'"
      ]
     },
     "execution_count": 12,
     "metadata": {},
     "output_type": "execute_result"
    }
   ],
   "source": [
    "var1"
   ]
  },
  {
   "cell_type": "code",
   "execution_count": 13,
   "id": "d7875f09-a2a5-49f2-a90f-be11032239fd",
   "metadata": {},
   "outputs": [],
   "source": [
    "var2 = '[DS,ML,Python]'  #string value"
   ]
  },
  {
   "cell_type": "code",
   "execution_count": 14,
   "id": "a3deb4a4-e99d-4b3c-9109-c63001113f67",
   "metadata": {},
   "outputs": [
    {
     "data": {
      "text/plain": [
       "'[DS,ML,Python]'"
      ]
     },
     "execution_count": 14,
     "metadata": {},
     "output_type": "execute_result"
    }
   ],
   "source": [
    "var2"
   ]
  },
  {
   "cell_type": "code",
   "execution_count": 16,
   "id": "446e9ad9-ac96-4f4d-8158-576b1ae65161",
   "metadata": {},
   "outputs": [
    {
     "ename": "SyntaxError",
     "evalue": "invalid character '‘' (U+2018) (2328497959.py, line 1)",
     "output_type": "error",
     "traceback": [
      "\u001b[0;36m  Cell \u001b[0;32mIn[16], line 1\u001b[0;36m\u001b[0m\n\u001b[0;31m    var3 = [‘DS’,’ML’,‘Python’]\u001b[0m\n\u001b[0m            ^\u001b[0m\n\u001b[0;31mSyntaxError\u001b[0m\u001b[0;31m:\u001b[0m invalid character '‘' (U+2018)\n"
     ]
    }
   ],
   "source": [
    "var3 = [‘DS’,’ML’,‘Python’]"
   ]
  },
  {
   "cell_type": "code",
   "execution_count": 17,
   "id": "bab01548-f659-4582-af30-7210b04c9d0d",
   "metadata": {},
   "outputs": [],
   "source": [
    "var4 = 1."
   ]
  },
  {
   "cell_type": "code",
   "execution_count": 18,
   "id": "ba5d0d1e-adfe-4914-a917-ad5d7e5b0d7e",
   "metadata": {},
   "outputs": [
    {
     "data": {
      "text/plain": [
       "1.0"
      ]
     },
     "execution_count": 18,
     "metadata": {},
     "output_type": "execute_result"
    }
   ],
   "source": [
    "var4"
   ]
  },
  {
   "cell_type": "code",
   "execution_count": 19,
   "id": "254b8a91-238a-49d3-a2fb-d5737cac3dde",
   "metadata": {},
   "outputs": [
    {
     "data": {
      "text/plain": [
       "'What will be the data type of the above given variable.'"
      ]
     },
     "execution_count": 19,
     "metadata": {},
     "output_type": "execute_result"
    }
   ],
   "source": [
    "'''What will be the data type of the above given variable.'''"
   ]
  },
  {
   "cell_type": "code",
   "execution_count": null,
   "id": "fa975335-e36d-4028-ba4e-6002d1cfd6b7",
   "metadata": {},
   "outputs": [],
   "source": [
    "#3. \n",
    "/ = division operator\n",
    "% = modulo operator\n",
    "// = floor division\n",
    "** = power operator"
   ]
  },
  {
   "cell_type": "code",
   "execution_count": 22,
   "id": "4b165886-e315-4734-b361-b2dac860c8d0",
   "metadata": {},
   "outputs": [
    {
     "data": {
      "text/plain": [
       "'Q4. Create a list of length 10 of your choice containing multiple types of data. Using for loop print the\\nelement and its data type.'"
      ]
     },
     "execution_count": 22,
     "metadata": {},
     "output_type": "execute_result"
    }
   ],
   "source": [
    "'''Q4. Create a list of length 10 of your choice containing multiple types of data. Using for loop print the\n",
    "element and its data type.'''"
   ]
  },
  {
   "cell_type": "code",
   "execution_count": 24,
   "id": "6b5fcb06-1740-4039-95fd-a54516a4edd0",
   "metadata": {},
   "outputs": [],
   "source": [
    "l = [1,2,3,'sudh',True,5+7j,3.4,False,bool,'Sudh']"
   ]
  },
  {
   "cell_type": "code",
   "execution_count": 27,
   "id": "e27ddcb6-ded0-41bb-acb8-4c90ca102615",
   "metadata": {},
   "outputs": [
    {
     "name": "stdout",
     "output_type": "stream",
     "text": [
      "[1, 2, 3, 'sudh', True, (5+7j), 3.4, False, <class 'bool'>, 'Sudh']\n",
      "[1, 2, 3, 'sudh', True, (5+7j), 3.4, False, <class 'bool'>, 'Sudh']\n",
      "[1, 2, 3, 'sudh', True, (5+7j), 3.4, False, <class 'bool'>, 'Sudh']\n",
      "[1, 2, 3, 'sudh', True, (5+7j), 3.4, False, <class 'bool'>, 'Sudh']\n",
      "[1, 2, 3, 'sudh', True, (5+7j), 3.4, False, <class 'bool'>, 'Sudh']\n",
      "[1, 2, 3, 'sudh', True, (5+7j), 3.4, False, <class 'bool'>, 'Sudh']\n",
      "[1, 2, 3, 'sudh', True, (5+7j), 3.4, False, <class 'bool'>, 'Sudh']\n",
      "[1, 2, 3, 'sudh', True, (5+7j), 3.4, False, <class 'bool'>, 'Sudh']\n",
      "[1, 2, 3, 'sudh', True, (5+7j), 3.4, False, <class 'bool'>, 'Sudh']\n",
      "[1, 2, 3, 'sudh', True, (5+7j), 3.4, False, <class 'bool'>, 'Sudh']\n"
     ]
    }
   ],
   "source": [
    "for i in l :\n",
    "    print(l)"
   ]
  },
  {
   "cell_type": "code",
   "execution_count": 28,
   "id": "ce03f582-4879-49f5-bec1-9a42b2820feb",
   "metadata": {},
   "outputs": [
    {
     "data": {
      "text/plain": [
       "'Q5. Using a while loop, verify if the number A is purely divisible by number B and if so then how many\\ntimes it can be divisible.'"
      ]
     },
     "execution_count": 28,
     "metadata": {},
     "output_type": "execute_result"
    }
   ],
   "source": [
    "\"\"\"Q5. Using a while loop, verify if the number A is purely divisible by number B and if so then how many\n",
    "times it can be divisible.\"\"\""
   ]
  },
  {
   "cell_type": "code",
   "execution_count": null,
   "id": "30d81440-d92b-4505-b216-04ddad7b003f",
   "metadata": {},
   "outputs": [],
   "source": [
    "a=int(input())\n",
    "b=int(input())\n",
    "   while(1) :\n",
    "if (a/b==0) :\n",
    " \n",
    "        print(\"a is diviable by b\")\n",
    "else :\n",
    "    print(\"a is not diviable by b\")\n",
    "    "
   ]
  },
  {
   "cell_type": "code",
   "execution_count": 29,
   "id": "5913e542-1f83-4aae-9193-52888572ede0",
   "metadata": {},
   "outputs": [
    {
     "data": {
      "text/plain": [
       "'Q6. Create a list containing 25 int type data. Using for loop and if-else condition print if the element is\\ndivisible by 3 or not.'"
      ]
     },
     "execution_count": 29,
     "metadata": {},
     "output_type": "execute_result"
    }
   ],
   "source": [
    "\"\"\"Q6. Create a list containing 25 int type data. Using for loop and if-else condition print if the element is\n",
    "divisible by 3 or not.\"\"\""
   ]
  },
  {
   "cell_type": "code",
   "execution_count": 30,
   "id": "1cb2edc2-b2b9-4576-a2fb-6e79f7742d55",
   "metadata": {},
   "outputs": [],
   "source": [
    "l1=[1,2,3,4,5,6,7,8,9,10,11,12,13,14,15,16,17,18,19,20,21,22,23,24,25]"
   ]
  },
  {
   "cell_type": "code",
   "execution_count": 33,
   "id": "98e824d5-8e03-416d-bbef-808f5f0207fc",
   "metadata": {},
   "outputs": [
    {
     "name": "stdout",
     "output_type": "stream",
     "text": [
      "not divisible\n",
      "not divisible\n",
      "3\n",
      "not divisible\n",
      "not divisible\n",
      "6\n",
      "not divisible\n",
      "not divisible\n",
      "9\n",
      "not divisible\n",
      "not divisible\n",
      "12\n",
      "not divisible\n",
      "not divisible\n",
      "15\n",
      "not divisible\n",
      "not divisible\n",
      "18\n",
      "not divisible\n",
      "not divisible\n",
      "21\n",
      "not divisible\n",
      "not divisible\n",
      "24\n",
      "not divisible\n"
     ]
    }
   ],
   "source": [
    "for i in l1 :\n",
    "    if (i%3 == 0) :\n",
    "        print(i)\n",
    "    else :\n",
    "        print (\"not divisible\")\n",
    "        "
   ]
  },
  {
   "cell_type": "code",
   "execution_count": 34,
   "id": "fe3c32a1-ba59-4ac7-bc11-3ba8ecc76592",
   "metadata": {},
   "outputs": [
    {
     "data": {
      "text/plain": [
       "'Q7. What do you understand about mutable and immutable data types? Give examples for both showing\\nthis property.'"
      ]
     },
     "execution_count": 34,
     "metadata": {},
     "output_type": "execute_result"
    }
   ],
   "source": [
    "\"\"\"Q7. What do you understand about mutable and immutable data types? Give examples for both showing\n",
    "this property.\"\"\""
   ]
  },
  {
   "cell_type": "code",
   "execution_count": 35,
   "id": "c87d22e6-49ed-414b-8cd3-2b08af1a5b7c",
   "metadata": {},
   "outputs": [],
   "source": [
    "l2 = [1,2,3,4,5,'sudh','yadav']"
   ]
  },
  {
   "cell_type": "code",
   "execution_count": 36,
   "id": "7a8acf1a-ed9f-4775-ab19-8427bcb8e23b",
   "metadata": {},
   "outputs": [
    {
     "data": {
      "text/plain": [
       "'sudh'"
      ]
     },
     "execution_count": 36,
     "metadata": {},
     "output_type": "execute_result"
    }
   ],
   "source": [
    "l2[5]"
   ]
  },
  {
   "cell_type": "code",
   "execution_count": 37,
   "id": "4b6197c4-c996-4485-9b1d-0adab1d10b2b",
   "metadata": {},
   "outputs": [],
   "source": [
    "l2[5]='a'"
   ]
  },
  {
   "cell_type": "code",
   "execution_count": 38,
   "id": "d9ee6a42-2990-4aff-a36a-73bba26b4f97",
   "metadata": {},
   "outputs": [
    {
     "data": {
      "text/plain": [
       "[1, 2, 3, 4, 5, 'a', 'yadav']"
      ]
     },
     "execution_count": 38,
     "metadata": {},
     "output_type": "execute_result"
    }
   ],
   "source": [
    "l2"
   ]
  },
  {
   "cell_type": "code",
   "execution_count": null,
   "id": "7bff98a9-15a9-4e46-8727-19c638477a6e",
   "metadata": {},
   "outputs": [],
   "source": [
    "# list is a mutable object"
   ]
  },
  {
   "cell_type": "code",
   "execution_count": 39,
   "id": "21d63fcf-2ab1-4b9a-9c39-262c29239ec6",
   "metadata": {},
   "outputs": [],
   "source": [
    "s='sudhanshu'"
   ]
  },
  {
   "cell_type": "code",
   "execution_count": 40,
   "id": "9bc34ed0-89a5-466e-b3c1-57c438cc82f2",
   "metadata": {},
   "outputs": [
    {
     "data": {
      "text/plain": [
       "'s'"
      ]
     },
     "execution_count": 40,
     "metadata": {},
     "output_type": "execute_result"
    }
   ],
   "source": [
    "s[0]"
   ]
  },
  {
   "cell_type": "code",
   "execution_count": 41,
   "id": "492a6cc6-2036-4d87-ad66-017398778ef0",
   "metadata": {},
   "outputs": [
    {
     "ename": "TypeError",
     "evalue": "'str' object does not support item assignment",
     "output_type": "error",
     "traceback": [
      "\u001b[0;31m---------------------------------------------------------------------------\u001b[0m",
      "\u001b[0;31mTypeError\u001b[0m                                 Traceback (most recent call last)",
      "Cell \u001b[0;32mIn[41], line 1\u001b[0m\n\u001b[0;32m----> 1\u001b[0m \u001b[43ms\u001b[49m\u001b[43m[\u001b[49m\u001b[38;5;241;43m0\u001b[39;49m\u001b[43m]\u001b[49m \u001b[38;5;241m=\u001b[39m \u001b[38;5;124m'\u001b[39m\u001b[38;5;124ma\u001b[39m\u001b[38;5;124m'\u001b[39m\n",
      "\u001b[0;31mTypeError\u001b[0m: 'str' object does not support item assignment"
     ]
    }
   ],
   "source": [
    "s[0] = 'a'"
   ]
  },
  {
   "cell_type": "code",
   "execution_count": null,
   "id": "f3e3763c-6141-497c-be38-0009f0a04591",
   "metadata": {},
   "outputs": [],
   "source": [
    "# string is immutable"
   ]
  }
 ],
 "metadata": {
  "kernelspec": {
   "display_name": "Python 3 (ipykernel)",
   "language": "python",
   "name": "python3"
  },
  "language_info": {
   "codemirror_mode": {
    "name": "ipython",
    "version": 3
   },
   "file_extension": ".py",
   "mimetype": "text/x-python",
   "name": "python",
   "nbconvert_exporter": "python",
   "pygments_lexer": "ipython3",
   "version": "3.10.8"
  }
 },
 "nbformat": 4,
 "nbformat_minor": 5
}
